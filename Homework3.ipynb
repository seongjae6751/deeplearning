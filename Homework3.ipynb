{
 "cells": [
  {
   "cell_type": "code",
   "execution_count": 2,
   "metadata": {},
   "outputs": [
    {
     "name": "stdout",
     "output_type": "stream",
     "text": [
      "Defaulting to user installation because normal site-packages is not writeable\n",
      "Looking in indexes: https://pypi.org/simple, https://pypi.ngc.nvidia.com\n",
      "Requirement already satisfied: torchinfo in ./.local/lib/python3.10/site-packages (1.8.0)\n",
      "\u001b[33mDEPRECATION: devscripts 2.22.1ubuntu1 has a non-standard version number. pip 24.1 will enforce this behaviour change. A possible replacement is to upgrade to a newer version of devscripts or contact the author to suggest that they release a version with a conforming version number. Discussion can be found at https://github.com/pypa/pip/issues/12063\u001b[0m\u001b[33m\n",
      "\u001b[0m\n",
      "\u001b[1m[\u001b[0m\u001b[34;49mnotice\u001b[0m\u001b[1;39;49m]\u001b[0m\u001b[39;49m A new release of pip is available: \u001b[0m\u001b[31;49m24.0\u001b[0m\u001b[39;49m -> \u001b[0m\u001b[32;49m24.3.1\u001b[0m\n",
      "\u001b[1m[\u001b[0m\u001b[34;49mnotice\u001b[0m\u001b[1;39;49m]\u001b[0m\u001b[39;49m To update, run: \u001b[0m\u001b[32;49mpython -m pip install --upgrade pip\u001b[0m\n",
      "Defaulting to user installation because normal site-packages is not writeable\n",
      "Looking in indexes: https://pypi.org/simple, https://pypi.ngc.nvidia.com\n",
      "Requirement already satisfied: wandb in ./.local/lib/python3.10/site-packages (0.19.0)\n",
      "Requirement already satisfied: click!=8.0.0,>=7.1 in /usr/local/lib/python3.10/dist-packages (from wandb) (8.1.7)\n",
      "Requirement already satisfied: docker-pycreds>=0.4.0 in ./.local/lib/python3.10/site-packages (from wandb) (0.4.0)\n",
      "Requirement already satisfied: gitpython!=3.1.29,>=1.0.0 in /usr/local/lib/python3.10/dist-packages (from wandb) (3.1.26)\n",
      "Requirement already satisfied: platformdirs in /usr/local/lib/python3.10/dist-packages (from wandb) (4.2.0)\n",
      "Requirement already satisfied: protobuf!=4.21.0,!=5.28.0,<6,>=3.19.0 in /usr/local/lib/python3.10/dist-packages (from wandb) (3.20.3)\n",
      "Requirement already satisfied: psutil>=5.0.0 in /usr/local/lib/python3.10/dist-packages (from wandb) (5.9.4)\n",
      "Requirement already satisfied: pydantic<3,>=2.6 in /usr/local/lib/python3.10/dist-packages (from wandb) (2.6.3)\n",
      "Requirement already satisfied: pyyaml in /usr/local/lib/python3.10/dist-packages (from wandb) (6.0.1)\n",
      "Requirement already satisfied: requests<3,>=2.0.0 in /usr/local/lib/python3.10/dist-packages (from wandb) (2.31.0)\n",
      "Requirement already satisfied: sentry-sdk>=2.0.0 in ./.local/lib/python3.10/site-packages (from wandb) (2.19.2)\n",
      "Requirement already satisfied: setproctitle in ./.local/lib/python3.10/site-packages (from wandb) (1.3.4)\n",
      "Requirement already satisfied: setuptools in /usr/local/lib/python3.10/dist-packages (from wandb) (68.2.2)\n",
      "Requirement already satisfied: typing-extensions<5,>=4.4 in /usr/local/lib/python3.10/dist-packages (from wandb) (4.10.0)\n",
      "Requirement already satisfied: six>=1.4.0 in /usr/local/lib/python3.10/dist-packages (from docker-pycreds>=0.4.0->wandb) (1.16.0)\n",
      "Requirement already satisfied: gitdb<5,>=4.0.1 in /usr/local/lib/python3.10/dist-packages (from gitpython!=3.1.29,>=1.0.0->wandb) (4.0.5)\n",
      "Requirement already satisfied: annotated-types>=0.4.0 in /usr/local/lib/python3.10/dist-packages (from pydantic<3,>=2.6->wandb) (0.6.0)\n",
      "Requirement already satisfied: pydantic-core==2.16.3 in /usr/local/lib/python3.10/dist-packages (from pydantic<3,>=2.6->wandb) (2.16.3)\n",
      "Requirement already satisfied: charset-normalizer<4,>=2 in /usr/local/lib/python3.10/dist-packages (from requests<3,>=2.0.0->wandb) (3.3.2)\n",
      "Requirement already satisfied: idna<4,>=2.5 in /usr/local/lib/python3.10/dist-packages (from requests<3,>=2.0.0->wandb) (3.6)\n",
      "Requirement already satisfied: urllib3<3,>=1.21.1 in /usr/local/lib/python3.10/dist-packages (from requests<3,>=2.0.0->wandb) (1.26.18)\n",
      "Requirement already satisfied: certifi>=2017.4.17 in /usr/local/lib/python3.10/dist-packages (from requests<3,>=2.0.0->wandb) (2024.2.2)\n",
      "Requirement already satisfied: smmap<4,>=3.0.1 in /usr/local/lib/python3.10/dist-packages (from gitdb<5,>=4.0.1->gitpython!=3.1.29,>=1.0.0->wandb) (3.0.5)\n",
      "\u001b[33mDEPRECATION: devscripts 2.22.1ubuntu1 has a non-standard version number. pip 24.1 will enforce this behaviour change. A possible replacement is to upgrade to a newer version of devscripts or contact the author to suggest that they release a version with a conforming version number. Discussion can be found at https://github.com/pypa/pip/issues/12063\u001b[0m\u001b[33m\n",
      "\u001b[0m\n",
      "\u001b[1m[\u001b[0m\u001b[34;49mnotice\u001b[0m\u001b[1;39;49m]\u001b[0m\u001b[39;49m A new release of pip is available: \u001b[0m\u001b[31;49m24.0\u001b[0m\u001b[39;49m -> \u001b[0m\u001b[32;49m24.3.1\u001b[0m\n",
      "\u001b[1m[\u001b[0m\u001b[34;49mnotice\u001b[0m\u001b[1;39;49m]\u001b[0m\u001b[39;49m To update, run: \u001b[0m\u001b[32;49mpython -m pip install --upgrade pip\u001b[0m\n"
     ]
    }
   ],
   "source": [
    "!pip install torchinfo\n",
    "!pip install wandb"
   ]
  },
  {
   "cell_type": "markdown",
   "metadata": {},
   "source": [
    "### 데이터 로드 및 준비"
   ]
  },
  {
   "cell_type": "code",
   "execution_count": 3,
   "metadata": {
    "scrolled": true
   },
   "outputs": [
    {
     "name": "stdout",
     "output_type": "stream",
     "text": [
      "Data loaded: 55000 training samples, 5000 validation samples.\n",
      "Test Data loaded: 10000 test samples.\n"
     ]
    }
   ],
   "source": [
    "import torch\n",
    "from torch.utils.data import DataLoader, random_split\n",
    "from torchvision import datasets\n",
    "from torchvision.transforms import transforms\n",
    "import os\n",
    "\n",
    "# Wandb API Key 설정 (필요한 경우 API Key를 자신의 Key로 설정)\n",
    "os.environ[\"WANDB_API_KEY\"] = \"b4b06c1cfe37299ec40b433d0a4c2b1052806ec6\"\n",
    "\n",
    "# 데이터 로드 함수 (훈련 및 검증 데이터)\n",
    "def get_fashion_mnist_data():\n",
    "    \"\"\"\n",
    "    Fashion MNIST 데이터셋 로드 및 훈련/검증 데이터 분리 함수.\n",
    "    - 데이터셋: Fashion MNIST (PyTorch 내장 데이터셋)\n",
    "    - 훈련 데이터와 검증 데이터를 55,000:5,000 비율로 분리\n",
    "    - DataLoader를 사용하여 데이터 배치 생성\n",
    "\n",
    "    Returns:\n",
    "        train_data_loader (DataLoader): 훈련 데이터 로더\n",
    "        validation_data_loader (DataLoader): 검증 데이터 로더\n",
    "    \"\"\"\n",
    "    data_path = \"./data\"  # 데이터 저장 경로\n",
    "    f_mnist_train = datasets.FashionMNIST(\n",
    "        root=data_path, \n",
    "        train=True, \n",
    "        download=True, \n",
    "        transform=transforms.ToTensor()\n",
    "    )\n",
    "    \n",
    "    # 훈련 및 검증 데이터셋 분리 (55,000:5,000 비율)\n",
    "    f_mnist_train, f_mnist_validation = random_split(\n",
    "        dataset=f_mnist_train, \n",
    "        lengths=[55000, 5000]\n",
    "    )\n",
    "    \n",
    "    # DataLoader 생성\n",
    "    train_data_loader = DataLoader(dataset=f_mnist_train, batch_size=64, shuffle=True)\n",
    "    validation_data_loader = DataLoader(dataset=f_mnist_validation, batch_size=64)\n",
    "\n",
    "    return train_data_loader, validation_data_loader\n",
    "\n",
    "\n",
    "# 데이터 로드 함수 (테스트 데이터)\n",
    "def get_fashion_mnist_test_data():\n",
    "    \"\"\"\n",
    "    Fashion MNIST 테스트 데이터셋 로드 함수.\n",
    "    - 데이터셋: Fashion MNIST (PyTorch 내장 데이터셋)\n",
    "    - DataLoader를 사용하여 데이터 배치 생성\n",
    "\n",
    "    Returns:\n",
    "        test_data_loader (DataLoader): 테스트 데이터 로더\n",
    "    \"\"\"\n",
    "    data_path = \"./data\"  # 데이터 저장 경로\n",
    "    f_mnist_test = datasets.FashionMNIST(\n",
    "        root=data_path, \n",
    "        train=False, \n",
    "        download=True, \n",
    "        transform=transforms.ToTensor()\n",
    "    )\n",
    "\n",
    "    # DataLoader 생성\n",
    "    test_data_loader = DataLoader(dataset=f_mnist_test, batch_size=64)\n",
    "\n",
    "    return test_data_loader\n",
    "\n",
    "\n",
    "# 데이터 로드 및 개수 출력\n",
    "if __name__ == \"__main__\":\n",
    "    # 훈련 및 검증 데이터 로드\n",
    "    train_loader, val_loader = get_fashion_mnist_data()\n",
    "    \n",
    "    # 테스트 데이터 로드\n",
    "    test_loader = get_fashion_mnist_test_data()\n",
    "    \n",
    "    # 데이터셋 크기 출력\n",
    "    print(f\"Data loaded: {len(train_loader.dataset)} training samples, {len(val_loader.dataset)} validation samples.\")\n",
    "    print(f\"Test Data loaded: {len(test_loader.dataset)} test samples.\")\n"
   ]
  },
  {
   "cell_type": "markdown",
   "metadata": {},
   "source": [
    "### 모델 정의"
   ]
  },
  {
   "cell_type": "code",
   "execution_count": 4,
   "metadata": {},
   "outputs": [
    {
     "data": {
      "text/plain": [
       "==========================================================================================\n",
       "Layer (type:depth-idx)                   Output Shape              Param #\n",
       "==========================================================================================\n",
       "FashionMNIST_CNN                         [64, 10]                  --\n",
       "├─Sequential: 1-1                        [64, 128, 7, 7]           --\n",
       "│    └─Conv2d: 2-1                       [64, 32, 28, 28]          320\n",
       "│    └─ReLU: 2-2                         [64, 32, 28, 28]          --\n",
       "│    └─BatchNorm2d: 2-3                  [64, 32, 28, 28]          64\n",
       "│    └─Conv2d: 2-4                       [64, 64, 28, 28]          18,496\n",
       "│    └─ReLU: 2-5                         [64, 64, 28, 28]          --\n",
       "│    └─BatchNorm2d: 2-6                  [64, 64, 28, 28]          128\n",
       "│    └─MaxPool2d: 2-7                    [64, 64, 14, 14]          --\n",
       "│    └─Dropout: 2-8                      [64, 64, 14, 14]          --\n",
       "│    └─Conv2d: 2-9                       [64, 128, 14, 14]         73,856\n",
       "│    └─ReLU: 2-10                        [64, 128, 14, 14]         --\n",
       "│    └─BatchNorm2d: 2-11                 [64, 128, 14, 14]         256\n",
       "│    └─MaxPool2d: 2-12                   [64, 128, 7, 7]           --\n",
       "│    └─Dropout: 2-13                     [64, 128, 7, 7]           --\n",
       "├─Sequential: 1-2                        [64, 10]                  --\n",
       "│    └─Flatten: 2-14                     [64, 6272]                --\n",
       "│    └─Linear: 2-15                      [64, 256]                 1,605,888\n",
       "│    └─ReLU: 2-16                        [64, 256]                 --\n",
       "│    └─BatchNorm1d: 2-17                 [64, 256]                 512\n",
       "│    └─Dropout: 2-18                     [64, 256]                 --\n",
       "│    └─Linear: 2-19                      [64, 128]                 32,896\n",
       "│    └─ReLU: 2-20                        [64, 128]                 --\n",
       "│    └─BatchNorm1d: 2-21                 [64, 128]                 256\n",
       "│    └─Dropout: 2-22                     [64, 128]                 --\n",
       "│    └─Linear: 2-23                      [64, 10]                  1,290\n",
       "==========================================================================================\n",
       "Total params: 1,733,962\n",
       "Trainable params: 1,733,962\n",
       "Non-trainable params: 0\n",
       "Total mult-adds (G): 1.98\n",
       "==========================================================================================\n",
       "Input size (MB): 0.20\n",
       "Forward/backward pass size (MB): 103.16\n",
       "Params size (MB): 6.94\n",
       "Estimated Total Size (MB): 110.30\n",
       "=========================================================================================="
      ]
     },
     "execution_count": 4,
     "metadata": {},
     "output_type": "execute_result"
    }
   ],
   "source": [
    "import torch.nn as nn\n",
    "from torchinfo import summary\n",
    "\n",
    "# CNN 모델 정의\n",
    "class FashionMNIST_CNN(nn.Module):\n",
    "    \"\"\"\n",
    "    Fashion MNIST를 위한 CNN 모델 정의\n",
    "    \"\"\"\n",
    "    def __init__(self, dropout_rate=0.55):\n",
    "        super(FashionMNIST_CNN, self).__init__()\n",
    "        self.conv_layers = nn.Sequential(\n",
    "            \n",
    "            nn.Conv2d(1, 32, kernel_size=3, padding=1), nn.ReLU(),\n",
    "            nn.BatchNorm2d(32),\n",
    "            nn.Conv2d(32, 64, kernel_size=3, padding=1), nn.ReLU(),\n",
    "            nn.BatchNorm2d(64),\n",
    "            nn.MaxPool2d(kernel_size=2), # 최대 풀링 계층\n",
    "            nn.Dropout(0.25),\n",
    "            nn.Conv2d(64, 128, kernel_size=3, padding=1), nn.ReLU(),\n",
    "            nn.BatchNorm2d(128),\n",
    "            nn.MaxPool2d(kernel_size=2),\n",
    "            nn.Dropout(0.25)\n",
    "        )\n",
    "        self.fc_layers = nn.Sequential(\n",
    "            nn.Flatten(), # 데이터를 1차원으로 변환\n",
    "            nn.Linear(128 * 7 * 7, 256), nn.ReLU(),\n",
    "            nn.BatchNorm1d(256),\n",
    "            nn.Dropout(dropout_rate),\n",
    "            nn.Linear(256, 128), nn.ReLU(),\n",
    "            nn.BatchNorm1d(128),\n",
    "            nn.Dropout(dropout_rate),\n",
    "            nn.Linear(128, 10) # 출력 계층: 10개의 클래스\n",
    "        )\n",
    "\n",
    "    def forward(self, x):\n",
    "        x = self.conv_layers(x)\n",
    "        x = self.fc_layers(x)\n",
    "        return x\n",
    "\n",
    "# 모델 초기화 및 구조 출력\n",
    "model = FashionMNIST_CNN(dropout_rate=0.4)\n",
    "device = torch.device(\"cuda\" if torch.cuda.is_available() else \"cpu\")\n",
    "model.to(device)\n",
    "\n",
    "summary(model, input_size=(64, 1, 28, 28))"
   ]
  },
  {
   "cell_type": "markdown",
   "metadata": {},
   "source": [
    "### 학습 및 검증"
   ]
  },
  {
   "cell_type": "code",
   "execution_count": 52,
   "metadata": {},
   "outputs": [
    {
     "name": "stdout",
     "output_type": "stream",
     "text": [
      "Epoch 1/20, Train Loss: 0.1788, Val Loss: 0.1743, Val Accuracy: 0.9350\n",
      "Epoch 2/20, Train Loss: 0.1740, Val Loss: 0.1800, Val Accuracy: 0.9354\n",
      "Epoch 3/20, Train Loss: 0.1630, Val Loss: 0.1682, Val Accuracy: 0.9358\n",
      "Epoch 4/20, Train Loss: 0.1563, Val Loss: 0.1626, Val Accuracy: 0.9388\n",
      "Epoch 5/20, Train Loss: 0.1466, Val Loss: 0.1701, Val Accuracy: 0.9376\n",
      "Epoch 6/20, Train Loss: 0.1165, Val Loss: 0.1558, Val Accuracy: 0.9450\n",
      "Epoch 7/20, Train Loss: 0.1035, Val Loss: 0.1565, Val Accuracy: 0.9458\n",
      "Epoch 8/20, Train Loss: 0.0967, Val Loss: 0.1578, Val Accuracy: 0.9456\n",
      "Epoch 9/20, Train Loss: 0.0912, Val Loss: 0.1584, Val Accuracy: 0.9446\n",
      "Epoch 10/20, Train Loss: 0.0885, Val Loss: 0.1596, Val Accuracy: 0.9462\n",
      "Epoch 11/20, Train Loss: 0.0808, Val Loss: 0.1587, Val Accuracy: 0.9458\n",
      "Early stopping triggered.\n"
     ]
    }
   ],
   "source": [
    "import torch.optim as optim\n",
    "import wandb\n",
    "\n",
    "wandb.init(\n",
    "    project=\"fashion-mnist\", \n",
    "    name=\"cnn-fmnist-run\", \n",
    "    config={\n",
    "        \"epochs\": 20,\n",
    "        \"batch_size\": 64,\n",
    "        \"learning_rate\": 0.0005,\n",
    "        \"dropout_rate\": 0.4,\n",
    "        \"weight_decay\": 1e-4\n",
    "    }\n",
    ")\n",
    "\n",
    "# 학습 및 검증 함수\n",
    "def train_and_evaluate(model, train_loader, val_loader, criterion, optimizer, scheduler, epochs=20, patience=5):\n",
    "    \"\"\"\n",
    "    CNN 모델을 학습하고 검증하는 함수\n",
    "    \"\"\"\n",
    "    best_val_loss = float('inf')\n",
    "    patience_counter = 0\n",
    "\n",
    "    for epoch in range(epochs):\n",
    "        model.train()\n",
    "        train_loss, train_correct = 0.0, 0\n",
    "        for inputs, targets in train_loader:\n",
    "            inputs, targets = inputs.to(device), targets.to(device)\n",
    "\n",
    "            optimizer.zero_grad()\n",
    "            outputs = model(inputs)\n",
    "            loss = criterion(outputs, targets)\n",
    "            loss.backward()\n",
    "            optimizer.step()\n",
    "\n",
    "            train_loss += loss.item()\n",
    "            train_correct += (outputs.argmax(1) == targets).sum().item()\n",
    "\n",
    "        train_accuracy = train_correct / len(train_loader.dataset)\n",
    "        \n",
    "        # 검증\n",
    "        val_loss, val_accuracy = evaluate(model, val_loader, criterion)\n",
    "\n",
    "        # Wandb 로깅\n",
    "        wandb.log({\n",
    "            \"epoch\": epoch + 1,\n",
    "            \"train_loss\": train_loss / len(train_loader),\n",
    "            \"train_accuracy\": train_accuracy,\n",
    "            \"val_loss\": val_loss,\n",
    "            \"val_accuracy\": val_accuracy,\n",
    "            \"learning_rate\": scheduler.get_last_lr()[0]\n",
    "        })\n",
    "        \n",
    "        print(f\"Epoch {epoch+1}/{epochs}, Train Loss: {train_loss/len(train_loader):.4f}, \"\n",
    "              f\"Val Loss: {val_loss:.4f}, Val Accuracy: {val_accuracy:.4f}\")\n",
    "\n",
    "        scheduler.step()\n",
    "\n",
    "        # Early Stopping\n",
    "        if val_loss < best_val_loss:\n",
    "            best_val_loss = val_loss\n",
    "            patience_counter = 0\n",
    "            torch.save(model.state_dict(), \"best_model.pth\") # 최적 모델 저장\n",
    "        else:\n",
    "            patience_counter += 1\n",
    "            if patience_counter >= patience:\n",
    "                print(\"Early stopping triggered.\")\n",
    "                break\n",
    "\n",
    "# 손실 함수 및 옵티마이저 정의\n",
    "criterion = nn.CrossEntropyLoss()\n",
    "optimizer = optim.Adam(model.parameters(), lr=0.0005, weight_decay=1e-4)\n",
    "scheduler = optim.lr_scheduler.StepLR(optimizer, step_size=5, gamma=0.1)\n",
    "\n",
    "# 학습\n",
    "train_and_evaluate(model, train_loader, val_loader, criterion, optimizer, scheduler, epochs=20)\n"
   ]
  },
  {
   "cell_type": "markdown",
   "metadata": {},
   "source": [
    "### 테스트 평가"
   ]
  },
  {
   "cell_type": "code",
   "execution_count": 55,
   "metadata": {},
   "outputs": [
    {
     "name": "stdout",
     "output_type": "stream",
     "text": [
      "Test Loss: 0.1849, Test Accuracy: 0.9426\n"
     ]
    }
   ],
   "source": [
    "# 평가 함수\n",
    "def evaluate(model, data_loader, criterion):\n",
    "    model.eval()\n",
    "    val_loss, correct = 0.0, 0\n",
    "    with torch.no_grad():\n",
    "        for inputs, targets in data_loader:\n",
    "            inputs, targets = inputs.to(device), targets.to(device)\n",
    "            outputs = model(inputs)\n",
    "            val_loss += criterion(outputs, targets).item()\n",
    "            correct += (outputs.argmax(1) == targets).sum().item()\n",
    "\n",
    "    val_accuracy = correct / len(data_loader.dataset)\n",
    "    return val_loss / len(data_loader), val_accuracy\n",
    "\n",
    "# 테스트 평가\n",
    "test_loss, test_accuracy = evaluate(model, test_loader, criterion)\n",
    "print(f\"Test Loss: {test_loss:.4f}, Test Accuracy: {test_accuracy:.4f}\")\n"
   ]
  },
  {
   "cell_type": "markdown",
   "metadata": {},
   "source": [
    "### 샘플 예측 시각화"
   ]
  },
  {
   "cell_type": "code",
   "execution_count": 72,
   "metadata": {
    "scrolled": true
   },
   "outputs": [
    {
     "name": "stdout",
     "output_type": "stream",
     "text": [
      "Misclassified: True Label=7, Predicted=9\n"
     ]
    },
    {
     "data": {
      "image/png": "[encoded data removed]",
      "text/plain": [
       "<Figure size 1500x500 with 10 Axes>"
      ]
     },
     "metadata": {},
     "output_type": "display_data"
    }
   ],
   "source": [
    "import matplotlib.pyplot as plt\n",
    "import random\n",
    "\n",
    "# 샘플 테스트 데이터 분류 예측\n",
    "def test_sample_predictions(model, test_loader, num_samples=10):\n",
    "    \"\"\"\n",
    "    테스트 데이터에서 샘플 이미지를 선택하고, 예측 결과를 시각화\n",
    "    \"\"\"\n",
    "    model.eval()\n",
    "\n",
    "    all_images = []\n",
    "    all_labels = []\n",
    "    for inputs, targets in test_loader:\n",
    "        all_images.append(inputs)\n",
    "        all_labels.append(targets)\n",
    "\n",
    "    all_images = torch.cat(all_images, dim=0)\n",
    "    all_labels = torch.cat(all_labels, dim=0)\n",
    "\n",
    "    # 샘플 선택\n",
    "    indices = random.sample(range(len(all_images)), num_samples)\n",
    "    selected_images = all_images[indices].to(device)\n",
    "    selected_labels = all_labels[indices].to(device)\n",
    "\n",
    "    # 예측\n",
    "    outputs = model(selected_images)\n",
    "    predictions = outputs.argmax(1)\n",
    "\n",
    "    # 시각화\n",
    "    fig, axs = plt.subplots(1, num_samples, figsize=(15, 5))\n",
    "    for i, ax in enumerate(axs):\n",
    "        image = selected_images[i].cpu().squeeze().numpy()\n",
    "        label = selected_labels[i].item()\n",
    "        prediction = predictions[i].item()\n",
    "\n",
    "        ax.imshow(image, cmap='gray')\n",
    "        ax.axis('off')\n",
    "        ax.set_title(f\"Label: {label}\\nPred: {prediction}\")\n",
    "        if label != prediction:\n",
    "            print(f\"Misclassified: True Label={label}, Predicted={prediction}\")\n",
    "\n",
    "    plt.show()\n",
    "\n",
    "# 샘플 데이터 예측\n",
    "test_sample_predictions(model, test_loader, num_samples=10)\n"
   ]
  },
  {
   "cell_type": "markdown",
   "metadata": {},
   "source": [
    "해당 사례에서 모델이 snaekers를 ankle boot로 분류한 이유는 크게 세 가지로 나눌 수 있을 것 같습니다. \n",
    "\n",
    "먼저, 이미지 품질 및 특징 부족이 주요 원인으로 보입니다. 패션 MNIST 데이터는 해상도가 낮아 sneakers의 세부적인 구조적 특징이 충분히 드러나지 않을 수 있어서 그런 것 같습니다.\n",
    "\n",
    "둘째로, 모델의 일반화 성능 부족도 원인으로 파악됩니다. 훈련 데이터에서 운동화와 샌들을 명확히 구분할 수 있는 충분한 사례가 포함되지 않았을 가능성이 있습니다. 특히 두 클래스가 공유하는 특징을 학습하는 과정에서 모델이 혼란을 겪었을 수 있을 것 같습니다.\n",
    "\n",
    "셋째로, 데이터 증강 방식이 오히려 혼동을 초래했을 가능성이 있는 것 같습니다. 본 모델은 회전 및 수평 뒤집기 같은 데이터 증강을 활용했는데, 이러한 증강은 snaekers와 ankle boot의 시각적 유사성을 증가시키는 결과를 낳을 수 있습니다. 예를 들어, snaekers와 ankle boot는 회전이나 뒤집기 후에도 비슷한 실루엣을 유지하므로 모델이 주요 특징을 학습하지 못했을 가능성이 있는 것 같습니다."
   ]
  },
  {
   "cell_type": "markdown",
   "metadata": {},
   "source": [
    "### 취득한 기술적 사항/고찰"
   ]
  },
  {
   "cell_type": "markdown",
   "metadata": {},
   "source": [
    "1. CNN 모델 구성 및 데이터 증강 기술\n",
    "\n",
    "기술적 사항:\n",
    "CNN 계층을 구성하면서 컨볼루션, 배치 정규화, 드롭아웃 등 다양한 기법을 활용하여 모델의 과적합을 방지하고 성능을 향상시킬 수 있음을 확인했습니다.\n",
    "데이터 증강 기법으로 랜덤 회전, 수평 뒤집기 등을 적용하여 모델의 일반화 성능을 높이는 데 기여했습니다.\n",
    "\n",
    "고찰:\n",
    "데이터 증강이 모델의 일반화에 미치는 긍정적인 영향을 체감했으나, 경우에 따라 과도한 증강이 특정 클래스 간 혼동을 증가시킬 수 있다는 점을 알게 되었습니다. 증강 기법 선택은 데이터셋의 특성에 따라 신중히 이루어져야 함을 느꼈습니다.\n",
    "\n",
    "2. 모델 성능 평가 및 시각화\n",
    "\n",
    "기술적 사항:\n",
    "학습 및 검증 데이터의 손실 값과 정확도를 주기적으로 로깅하고, 테스트 데이터의 정확도를 시각화하여 학습 진행 상황을 체계적으로 파악했습니다.\n",
    "Matplotlib를 사용해 잘못 분류된 샘플을 시각적으로 분석하며 모델의 한계점을 발견했습니다.\n",
    "\n",
    "고찰:\n",
    "시각화를 통해 잘못 분류된 사례를 직접 확인함으로써 모델 개선에 필요한 구체적인 방향성을 설정할 수 있었습니다. 예를 들어, 운동화와 샌들 간 혼동 문제를 해결하기 위해 세부 특징 학습을 강화할 필요성을 인지했습니다.\n",
    "\n",
    "3. Wandb 활용한 실험 추적 및 관리\n",
    "\n",
    "기술적 사항:\n",
    "Wandb를 사용하여 학습률, 손실, 정확도 등 주요 지표를 효과적으로 관리하고, 다양한 실험 결과를 저장 및 비교할 수 있었습니다.\n",
    "학습률 스케줄링(StepLR)을 적용하며 최적의 학습률을 찾는 과정에서 Wandb가 큰 도움을 주었습니다.\n",
    "\n",
    "고찰:\n",
    "Wandb는 실험 결과를 체계적으로 관리할 수 있는 훌륭한 도구임을 체감했습니다. 다만, 설정이 다소 복잡하여 처음 사용 시 적응이 필요했고, 실험 기록의 중요성을 깨달으며 코드와 실험 로그의 일관성을 유지하는 것이 중요하다고 느꼈습니다.\n",
    "\n",
    "4. 오분류 사례 분석 및 개선 방안 도출\n",
    "\n",
    "기술적 사항:\n",
    "오분류된 사례를 확인하고, 모델이 잘못된 예측을 하게 된 원인을 데이터 품질, 모델 구조, 증강 방식 등 다양한 측면에서 분석했습니다.\n",
    "해당 사례를 기반으로 모델 구조 변경, 데이터 추가 및 수정, 증강 전략 개선과 같은 해결책을 도출했습니다.\n",
    "\n",
    "고찰:\n",
    "머신러닝 프로젝트에서 단순히 높은 정확도를 목표로 하기보다는, 모델의 한계를 분석하고 개선하는 과정이 더 큰 학습으로 이어진다는 점을 체감했습니다. 오분류 사례 분석은 모델 개선을 위한 필수 단계임을 깨달았습니다.\n",
    "\n",
    "5. 학습률 조정 및 Early Stopping 활용\n",
    "\n",
    "기술적 사항:\n",
    "학습률 조정(StepLR)과 Early Stopping을 도입하여 학습 과정에서 불필요한 자원 낭비를 줄이고, 적정한 시점에서 학습을 종료할 수 있었습니다.\n",
    "이를 통해 과적합을 방지하고 학습 시간을 단축했습니다.\n",
    "\n",
    "고찰:\n",
    "Early Stopping은 모델이 검증 데이터에서 더 이상 개선되지 않을 때 유용하지만, 너무 이르게 종료될 경우 최적의 성능을 달성하지 못할 위험도 있다는 점을 느꼈습니다. 학습률 스케줄링과의 조합이 효과적임을 확인했습니다."
   ]
  },
  {
   "cell_type": "markdown",
   "metadata": {},
   "source": [
    "### 숙제 후기"
   ]
  },
  {
   "cell_type": "markdown",
   "metadata": {},
   "source": [
    "이번 숙제를 통해 Fashion MNIST 데이터와 CNN 모델 학습에 대한 실질적인 이해를 깊게 할 수 있었습니다. Validation 및 Test Accuracy 목표를 설정하고 이를 만족시키기 위해 다양한 최적화 및 정규화 기법을 활용하며, 하이퍼파라미터의 중요성을 체감했습니다. 또한, 잘못 분류된 샘플을 분석하며 모델의 한계를 파악하고 개선 방향을 고민할 기회를 얻었습니다."
   ]
  }
 ],
 "metadata": {
  "colab": {
   "authorship_tag": "ABX9TyMPQUruAyuFAlbfWS3F4KP/",
   "provenance": []
  },
  "kernelspec": {
   "display_name": "PyTorch 2.3 (NGC 24.03/Python 3.10) on Backend.AI",
   "language": "python",
   "name": "python3"
  },
  "language_info": {
   "codemirror_mode": {
    "name": "ipython",
    "version": 3
   },
   "file_extension": ".py",
   "mimetype": "text/x-python",
   "name": "python",
   "nbconvert_exporter": "python",
   "pygments_lexer": "ipython3",
   "version": "3.10.12"
  }
 },
 "nbformat": 4,
 "nbformat_minor": 1
}
