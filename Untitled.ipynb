{
 "cells": [
  {
   "cell_type": "code",
   "execution_count": 5,
   "id": "8071f8f4-c0b4-4cf4-9062-b464803d1b24",
   "metadata": {},
   "outputs": [
    {
     "name": "stdout",
     "output_type": "stream",
     "text": [
      "Train data shape: (3527, 21, 5), (3527,)\n",
      "Validation data shape: (150, 21, 5), (150,)\n",
      "Test data shape: (30, 21, 5), (30,)\n"
     ]
    }
   ],
   "source": [
    "import numpy as np\n",
    "import pandas as pd\n",
    "\n",
    "# 데이터 로드\n",
    "btc_data = pd.read_csv('./BTC_KRW.csv')\n",
    "\n",
    "# 필요한 열 선택 (Open, High, Low, Close, Volume)\n",
    "btc_data = btc_data[['Open', 'High', 'Low', 'Close', 'Volume']]\n",
    "\n",
    "# Hyperparameter 설정\n",
    "sequence_size = 21\n",
    "validation_size = 150\n",
    "test_size = 30\n",
    "is_regression = True  # Regression 또는 Classification 선택\n",
    "\n",
    "# Sequence 생성 함수\n",
    "def create_sequences(data, sequence_size, is_regression):\n",
    "    sequences = []\n",
    "    labels = []\n",
    "    for idx in range(len(data) - sequence_size):\n",
    "        sequence = data[idx:idx + sequence_size].values\n",
    "        if is_regression:\n",
    "            label = data.iloc[idx + sequence_size]['Close']  # 다음 날 Close 값 (Regression)\n",
    "        else:\n",
    "            label = 1 if data.iloc[idx + sequence_size]['Close'] > data.iloc[idx + sequence_size - 1]['Close'] else 0  # Classification\n",
    "        sequences.append(sequence)\n",
    "        labels.append(label)\n",
    "    return np.array(sequences), np.array(labels)\n",
    "\n",
    "# Sequence 생성\n",
    "X, y = create_sequences(btc_data, sequence_size, is_regression)\n",
    "\n",
    "# 데이터셋 분리 (Train, Validation, Test)\n",
    "train_size = len(X) - validation_size - test_size\n",
    "X_train, y_train = X[:train_size], y[:train_size]\n",
    "X_val, y_val = X[train_size:train_size + validation_size], y[train_size:train_size + validation_size]\n",
    "X_test, y_test = X[train_size + validation_size:], y[train_size + validation_size:]\n",
    "\n",
    "# 데이터셋 확인\n",
    "print(f\"Train data shape: {X_train.shape}, {y_train.shape}\")\n",
    "print(f\"Validation data shape: {X_val.shape}, {y_val.shape}\")\n",
    "print(f\"Test data shape: {X_test.shape}, {y_test.shape}\")\n"
   ]
  },
  {
   "cell_type": "code",
   "execution_count": null,
   "id": "16e5d4d3-5dd4-4498-97cb-b408ab965fa1",
   "metadata": {},
   "outputs": [],
   "source": []
  },
  {
   "cell_type": "code",
   "execution_count": null,
   "id": "73ab19f1-5560-47a5-9579-ed932a06ccf3",
   "metadata": {},
   "outputs": [],
   "source": []
  },
  {
   "cell_type": "code",
   "execution_count": null,
   "id": "d405fcd6-c860-4514-8dbd-99bdc60b151f",
   "metadata": {},
   "outputs": [],
   "source": []
  },
  {
   "cell_type": "code",
   "execution_count": null,
   "id": "ec6ad4fc-4bc2-41bc-b017-2d87211597dd",
   "metadata": {},
   "outputs": [],
   "source": []
  },
  {
   "cell_type": "code",
   "execution_count": null,
   "id": "77ea5787-493d-4037-9a79-32968d416788",
   "metadata": {},
   "outputs": [],
   "source": []
  }
 ],
 "metadata": {
  "kernelspec": {
   "display_name": "Python 3 (ipykernel)",
   "language": "python",
   "name": "python3"
  },
  "language_info": {
   "codemirror_mode": {
    "name": "ipython",
    "version": 3
   },
   "file_extension": ".py",
   "mimetype": "text/x-python",
   "name": "python",
   "nbconvert_exporter": "python",
   "pygments_lexer": "ipython3",
   "version": "3.10.14"
  }
 },
 "nbformat": 4,
 "nbformat_minor": 5
}
